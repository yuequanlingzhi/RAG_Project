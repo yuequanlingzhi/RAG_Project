{
 "cells": [
  {
   "cell_type": "code",
   "execution_count": 12,
   "metadata": {},
   "outputs": [],
   "source": [
    "import json\n",
    "import random\n",
    "from sentence_transformers import SentenceTransformer, losses\n",
    "from sentence_transformers.datasets import SentencesDataset\n",
    "from sentence_transformers import InputExample\n",
    "from torch.utils.data import DataLoader\n",
    "from sklearn.model_selection import train_test_split\n",
    "\n",
    "# 定义数据文件路径\n",
    "DATA_FILE = 'labeled_data.json'\n",
    "\n",
    "# 加载标注数据\n",
    "with open(DATA_FILE, 'r', encoding='utf-8') as f:\n",
    "    data = json.load(f)\n",
    "\n",
    "# 创建 InputExample 列表\n",
    "train_examples = []\n",
    "for item in data:\n",
    "    substring = item['substring'].strip()\n",
    "    matched_chunk = item['matched_chunk'].strip()\n",
    "    if not substring or not matched_chunk:\n",
    "        continue  # 跳过空的句子对\n",
    "    train_examples.append(InputExample(\n",
    "        texts=[substring, matched_chunk],\n",
    "        label=float(item['label'])  # 确保标签为 float 类型\n",
    "    ))\n",
    "\n",
    "\n",
    "# 创建 SentencesDataset 和 DataLoader\n",
    "train_dataset = SentencesDataset(train_examples, model=SentenceTransformer('multi-qa-MiniLM-L6-cos-v1'))\n",
    "train_dataloader = DataLoader(train_dataset, shuffle=True, batch_size=1)\n"
   ]
  },
  {
   "cell_type": "code",
   "execution_count": 13,
   "metadata": {},
   "outputs": [],
   "source": [
    "from sentence_transformers import losses\n",
    "\n",
    "# 定义损失函数\n",
    "train_loss = losses.CosineSimilarityLoss(model=SentenceTransformer('multi-qa-MiniLM-L6-cos-v1'))\n"
   ]
  },
  {
   "cell_type": "code",
   "execution_count": 15,
   "metadata": {},
   "outputs": [
    {
     "name": "stderr",
     "output_type": "stream",
     "text": [
      "100%|██████████| 30/30 [00:01<00:00, 26.06it/s]"
     ]
    },
    {
     "name": "stdout",
     "output_type": "stream",
     "text": [
      "{'train_runtime': 1.1503, 'train_samples_per_second': 26.081, 'train_steps_per_second': 26.081, 'train_loss': 0.06850192546844483, 'epoch': 3.0}\n"
     ]
    },
    {
     "name": "stderr",
     "output_type": "stream",
     "text": [
      "\n"
     ]
    }
   ],
   "source": [
    "# 初始化模型\n",
    "model = SentenceTransformer('multi-qa-MiniLM-L6-cos-v1')\n",
    "\n",
    "# 配置优化器参数\n",
    "optimizer_params = {\n",
    "    'lr': 1e-5  # 学习率可以根据需要调整，例如 1e-5, 3e-5, 5e-5 等\n",
    "}\n",
    "\n",
    "# 启动微调\n",
    "model.fit(    \n",
    "    train_objectives=[(train_dataloader, train_loss)],    \n",
    "    epochs=3,    \n",
    "    warmup_steps=100,    \n",
    "    optimizer_params=optimizer_params,  # 使用默认优化器 AdamW 并设置学习率\n",
    "    use_amp=None  # 启用自动混合精度（如果支持）\n",
    ")\n"
   ]
  },
  {
   "cell_type": "code",
   "execution_count": null,
   "metadata": {},
   "outputs": [],
   "source": [
    "model.save('fine_tuned_simcse_model')\n"
   ]
  }
 ],
 "metadata": {
  "kernelspec": {
   "display_name": "Python 3",
   "language": "python",
   "name": "python3"
  },
  "language_info": {
   "codemirror_mode": {
    "name": "ipython",
    "version": 3
   },
   "file_extension": ".py",
   "mimetype": "text/x-python",
   "name": "python",
   "nbconvert_exporter": "python",
   "pygments_lexer": "ipython3",
   "version": "3.10.6"
  }
 },
 "nbformat": 4,
 "nbformat_minor": 2
}
